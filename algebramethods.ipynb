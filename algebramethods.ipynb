{
 "metadata": {
  "language_info": {
   "codemirror_mode": {
    "name": "ipython",
    "version": 3
   },
   "file_extension": ".py",
   "mimetype": "text/x-python",
   "name": "python",
   "nbconvert_exporter": "python",
   "pygments_lexer": "ipython3",
   "version": "3.8.5-final"
  },
  "orig_nbformat": 2,
  "kernelspec": {
   "name": "python3",
   "display_name": "Python 3.8.5 32-bit",
   "metadata": {
    "interpreter": {
     "hash": "9b2d6da8ba6411fdac093c3bb4afac181aadc331e3167f9430d0704ead4b8676"
    }
   }
  }
 },
 "nbformat": 4,
 "nbformat_minor": 2,
 "cells": [
  {
   "source": [
    "## Starting\n",
    "To start our code, import numpy to help us to solve the algebra equation"
   ],
   "cell_type": "markdown",
   "metadata": {}
  },
  {
   "cell_type": "code",
   "execution_count": 10,
   "metadata": {},
   "outputs": [],
   "source": [
    "import numpy as np"
   ]
  },
  {
   "source": [
    "## Stop Criterion\n",
    "To stop our while loop, we can use the next expression"
   ],
   "cell_type": "markdown",
   "metadata": {}
  },
  {
   "cell_type": "code",
   "execution_count": 12,
   "metadata": {},
   "outputs": [],
   "source": [
    "stop = lambda x,x_k,EPSILON:np.linalg.norm(x-x_k,np.inf)/np.linalg.norm(x,np.inf)<EPSILON"
   ]
  },
  {
   "source": [
    "## Calculation\n",
    "\n",
    "The calculation algorithm is the same for both cases"
   ],
   "cell_type": "markdown",
   "metadata": {}
  },
  {
   "cell_type": "code",
   "execution_count": 13,
   "metadata": {},
   "outputs": [],
   "source": [
    "def calculate(B,c,EPSILON):\n",
    "    x_k,x_k_1 = np.ones(B.shape[1]),np.zeros(B.shape[1])\n",
    "    while not stop(x_k,x_k_1,EPSILON):\n",
    "        x_k_1 = x_k\n",
    "        x_k = np.squeeze(np.asarray(x_k_1*B.transpose()+c))\n",
    "    return x_k"
   ]
  },
  {
   "source": [
    "## Jacobi"
   ],
   "cell_type": "markdown",
   "metadata": {}
  },
  {
   "cell_type": "code",
   "execution_count": 14,
   "metadata": {},
   "outputs": [],
   "source": [
    "def jacobi(L,D,U,b,EPSILON):\n",
    "    B,c = -np.linalg.inv(D)*(L+U),b*np.linalg.inv(D).transpose()\n",
    "    return calculate(B,c,EPSILON)"
   ]
  },
  {
   "source": [
    "## Gauss-Seidel"
   ],
   "cell_type": "markdown",
   "metadata": {}
  },
  {
   "cell_type": "code",
   "execution_count": 15,
   "metadata": {},
   "outputs": [],
   "source": [
    "def gauss_seidel(L,D,U,b,EPSILON):\n",
    "    B,c = -np.linalg.inv(L+D)*U,b*np.linalg.inv(L+D).transpose() \n",
    "    return calculate(B,c,EPSILON)"
   ]
  },
  {
   "source": [
    "## Solve Algorithm"
   ],
   "cell_type": "markdown",
   "metadata": {}
  },
  {
   "cell_type": "code",
   "execution_count": 16,
   "metadata": {},
   "outputs": [],
   "source": [
    "def solve(A,b,method,EPSILON = 1e-2):\n",
    "    L,U = A-np.triu(A),A-np.tril(A)\n",
    "    D = A-L-U\n",
    "    return method(L,D,U,b,EPSILON)"
   ]
  },
  {
   "source": [
    "## Testing Jacobi\n",
    "For the test, we'll use the matrices below:\n",
    "```Python\n",
    "A = [[10,2,1],\n",
    "     [1,5,1],\n",
    "     [2,3,10]]\n",
    "b = [ 7,\n",
    "     -8,\n",
    "      6]\n",
    "```\n",
    "And the output will be aproximated at:\n",
    "```Python\n",
    "[0.9979,-1.9996,0.9968]\n",
    "```"
   ],
   "cell_type": "markdown",
   "metadata": {}
  },
  {
   "cell_type": "code",
   "execution_count": 17,
   "metadata": {},
   "outputs": [
    {
     "output_type": "stream",
     "name": "stdout",
     "text": [
      "[ 0.99977882 -2.00026225  0.9996773 ]\n"
     ]
    }
   ],
   "source": [
    "A,b= np.matrix([[10,2,1],[1,5,1],[2,3,10]]),np.array([7,-8,6])\n",
    "print(solve(A,b,jacobi,1e-3))"
   ]
  },
  {
   "source": [
    "## Testing Gauss-Seidel\n",
    "For the test, we'll use the matrices below:\n",
    "```Python\n",
    "A = [[5,1,1],\n",
    "     [3,4,1],\n",
    "     [3,3,6]]\n",
    "b = [5,\n",
    "     6,\n",
    "     0]\n",
    "```\n",
    "And the output will be aproximated at:\n",
    "```Python\n",
    "[1.0016,0.9987,-1.0002]\n",
    "```"
   ],
   "cell_type": "markdown",
   "metadata": {}
  },
  {
   "cell_type": "code",
   "execution_count": 18,
   "metadata": {},
   "outputs": [
    {
     "output_type": "stream",
     "name": "stdout",
     "text": [
      "[ 1.00041    0.999605  -1.0000075]\n"
     ]
    }
   ],
   "source": [
    "A,b= np.matrix([[5,1,1],[3,4,1],[3,3,6]]),np.array([5,6,0])\n",
    "print(solve(A,b,gauss_seidel,1e-2))"
   ]
  }
 ]
}